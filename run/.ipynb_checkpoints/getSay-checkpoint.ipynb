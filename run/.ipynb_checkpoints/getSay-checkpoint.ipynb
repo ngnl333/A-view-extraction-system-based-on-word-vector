{
 "cells": [
  {
   "cell_type": "markdown",
   "metadata": {},
   "source": [
    "## Step 1:Data acquisition and data preprocessing.\n",
    "\n",
    "First get the data set\n",
    "\n",
    "Consists of 2225 documents from the BBC news website\n",
    "http://mlg.ucd.ie/datasets/bbc.html"
   ]
  },
  {
   "cell_type": "code",
   "execution_count": null,
   "metadata": {},
   "outputs": [],
   "source": [
    "dataset_path=\"C:\\Users\\qingh\\Desktop\\project\\data\\dataset.csv\""
   ]
  },
  {
   "cell_type": "code",
   "execution_count": null,
   "metadata": {},
   "outputs": [],
   "source": [
    "import pandas as pd"
   ]
  },
  {
   "cell_type": "code",
   "execution_count": null,
   "metadata": {},
   "outputs": [],
   "source": [
    "content=pd.read_csv(dataset_path,encoding=\"iso-8859-1\")"
   ]
  },
  {
   "cell_type": "code",
   "execution_count": 4,
   "metadata": {},
   "outputs": [
    {
     "data": {
      "text/html": [
       "<div>\n",
       "<style scoped>\n",
       "    .dataframe tbody tr th:only-of-type {\n",
       "        vertical-align: middle;\n",
       "    }\n",
       "\n",
       "    .dataframe tbody tr th {\n",
       "        vertical-align: top;\n",
       "    }\n",
       "\n",
       "    .dataframe thead th {\n",
       "        text-align: right;\n",
       "    }\n",
       "</style>\n",
       "<table border=\"1\" class=\"dataframe\">\n",
       "  <thead>\n",
       "    <tr style=\"text-align: right;\">\n",
       "      <th></th>\n",
       "      <th>news</th>\n",
       "      <th>type</th>\n",
       "    </tr>\n",
       "  </thead>\n",
       "  <tbody>\n",
       "    <tr>\n",
       "      <th>0</th>\n",
       "      <td>China had role in Yukos split-up\\n \\n China le...</td>\n",
       "      <td>business</td>\n",
       "    </tr>\n",
       "    <tr>\n",
       "      <th>1</th>\n",
       "      <td>Oil rebounds from weather effect\\n \\n Oil pric...</td>\n",
       "      <td>business</td>\n",
       "    </tr>\n",
       "    <tr>\n",
       "      <th>2</th>\n",
       "      <td>Indonesia 'declines debt freeze'\\n \\n Indonesi...</td>\n",
       "      <td>business</td>\n",
       "    </tr>\n",
       "    <tr>\n",
       "      <th>3</th>\n",
       "      <td>$1m payoff for former Shell boss\\n \\n Shell is...</td>\n",
       "      <td>business</td>\n",
       "    </tr>\n",
       "    <tr>\n",
       "      <th>4</th>\n",
       "      <td>US bank in $515m SEC settlement\\n \\n Five Bank...</td>\n",
       "      <td>business</td>\n",
       "    </tr>\n",
       "  </tbody>\n",
       "</table>\n",
       "</div>"
      ],
      "text/plain": [
       "                                                news      type\n",
       "0  China had role in Yukos split-up\\n \\n China le...  business\n",
       "1  Oil rebounds from weather effect\\n \\n Oil pric...  business\n",
       "2  Indonesia 'declines debt freeze'\\n \\n Indonesi...  business\n",
       "3  $1m payoff for former Shell boss\\n \\n Shell is...  business\n",
       "4  US bank in $515m SEC settlement\\n \\n Five Bank...  business"
      ]
     },
     "execution_count": 4,
     "metadata": {},
     "output_type": "execute_result"
    }
   ],
   "source": [
    "content.head()"
   ]
  },
  {
   "cell_type": "code",
   "execution_count": 5,
   "metadata": {},
   "outputs": [],
   "source": [
    "content_list=content['news'].tolist()\n",
    "#Imported into a list."
   ]
  },
  {
   "cell_type": "code",
   "execution_count": 6,
   "metadata": {},
   "outputs": [
    {
     "data": {
      "text/plain": [
       "['China had role in Yukos split-up\\n \\n China lent Russia $6bn (Â£3.2bn) to help the Russian government renationalise the key Yuganskneftegas unit of oil group Yukos, it has been revealed.\\n \\n The Kremlin said on Tuesday that the $6bn which Russian state bank VEB lent state-owned Rosneft to help buy Yugansk in turn came from Chinese banks. The revelation came as the Russian government said Rosneft had signed a long-term oil supply deal with China. The deal sees Rosneft receive $6bn in credits from China\\'s CNPC.\\n \\n According to Russian newspaper Vedomosti, these credits would be used to pay off the loans Rosneft received to finance the purchase of Yugansk. Reports said CNPC had been offered 20% of Yugansk in return for providing finance but the company opted for a long-term oil supply deal instead. Analysts said one factor that might have influenced the Chinese decision was the possibility of litigation from Yukos, Yugansk\\'s former owner, if CNPC had become a shareholder. Rosneft and VEB declined to comment. \"The two companies [Rosneft and CNPC] have agreed on the pre-payment for long-term deliveries,\" said Russian oil official Sergei Oganesyan. \"There is nothing unusual that the pre-payment is for five to six years.\"\\n \\n The announcements help to explain how Rosneft, a medium-sized, indebted, and relatively unknown firm, was able to finance its surprise purchase of Yugansk. Yugansk was sold for $9.3bn in an auction last year to help Yukos pay off part of a $27bn bill in unpaid taxes and fines.\\n \\n The embattled Russian oil giant had previously filed for bankruptcy protection in a US court in an attempt to prevent the forced sale of its main production arm. But Yugansk was sold to a little known shell company which in turn was bought by Rosneft. Yukos claims its downfall was punishment for the political ambitions of its founder Mikhail Khodorkovsky. Once the country\\'s richest man, Mr Khodorkovsky is on trial for fraud and tax evasion.\\n \\n The deal between Rosneft and CNPC is seen as part of China\\'s desire to secure long-term oil supplies to feed its booming economy. China\\'s thirst for products such as crude oil, copper and steel has helped pushed global commodity prices to record levels. \"Clearly the Chinese are trying to get some leverage [in Russia],\" said Dmitry Lukashov, an analyst at brokerage Aton. \"They understand property rights in Russia are not the most important rights, and they are more interested in guaranteeing supplies.\" \"If the price of oil is fixed under the deal, which is unlikely, it could be very profitable for the Chinese,\" Mr Lukashov continued. \"And Rosneft is in desperate need of cash, so it\\'s a good deal for them too.\"\\n',\n",
       " 'Oil rebounds from weather effect\\n \\n Oil prices recovered in Asian trade on Tuesday, after falling in New York on milder winter weather across the US.\\n \\n With winter temperatures staying relatively high in the northern US, a barrel of light crude ended Monday down $1.33 to $42.12. However crude prices have rebounded in Asia, rising to $42.30 a barrel for February delivery. In London, trading of Brent crude was suspended for a public holiday, but the price fell to $39.20 in the Far East.\\n \\n With milder temperatures expected to continue in the northern parts of the US over the next few days at least, analysts have said the price of oil may fall further - even if the decline was only temporary. \"Weather has been the Achilles\\' heel of this market,\" said ABN AMRO analyst John Brady. \"But it is winter in the northeast. Eventually we\\'ll get another cold blast.\" Despite a fall of more than $12 a barrel from the record highs reached in late October, the price of crude oil remains almost 30% higher than year-ago levels. Prices rose last week after militant attacks in Riyadh, the capital of Saudi Arabia, briefly renewed fears that the supply chain might be broken in the world\\'s leading crude exporter. \"The market was panicked but fears essentially evaporated... since there was no follow-up,\" said Deborah White, senior economist for energy at SG Securities in Paris.\\n']"
      ]
     },
     "execution_count": 6,
     "metadata": {},
     "output_type": "execute_result"
    }
   ],
   "source": [
    "content_list[0:2]"
   ]
  },
  {
   "cell_type": "markdown",
   "metadata": {},
   "source": [
    "#### Data cleaning. Remove the extra symbols."
   ]
  },
  {
   "cell_type": "code",
   "execution_count": 7,
   "metadata": {},
   "outputs": [],
   "source": [
    "import re\n",
    "def token(string):\n",
    "    string=re.sub(r'\\n', '.',string,count=1)\n",
    "    return re.sub(r'\\'|\\n+', '',string)"
   ]
  },
  {
   "cell_type": "code",
   "execution_count": 8,
   "metadata": {},
   "outputs": [],
   "source": [
    "content_list=[token(n) for n in content_list]"
   ]
  },
  {
   "cell_type": "code",
   "execution_count": 9,
   "metadata": {},
   "outputs": [],
   "source": [
    "content_list = [''.join(n) for n in content_list]"
   ]
  },
  {
   "cell_type": "code",
   "execution_count": 10,
   "metadata": {},
   "outputs": [
    {
     "data": {
      "text/plain": [
       "['China had role in Yukos split-up.  China lent Russia $6bn (Â£3.2bn) to help the Russian government renationalise the key Yuganskneftegas unit of oil group Yukos, it has been revealed.  The Kremlin said on Tuesday that the $6bn which Russian state bank VEB lent state-owned Rosneft to help buy Yugansk in turn came from Chinese banks. The revelation came as the Russian government said Rosneft had signed a long-term oil supply deal with China. The deal sees Rosneft receive $6bn in credits from Chinas CNPC.  According to Russian newspaper Vedomosti, these credits would be used to pay off the loans Rosneft received to finance the purchase of Yugansk. Reports said CNPC had been offered 20% of Yugansk in return for providing finance but the company opted for a long-term oil supply deal instead. Analysts said one factor that might have influenced the Chinese decision was the possibility of litigation from Yukos, Yugansks former owner, if CNPC had become a shareholder. Rosneft and VEB declined to comment. \"The two companies [Rosneft and CNPC] have agreed on the pre-payment for long-term deliveries,\" said Russian oil official Sergei Oganesyan. \"There is nothing unusual that the pre-payment is for five to six years.\"  The announcements help to explain how Rosneft, a medium-sized, indebted, and relatively unknown firm, was able to finance its surprise purchase of Yugansk. Yugansk was sold for $9.3bn in an auction last year to help Yukos pay off part of a $27bn bill in unpaid taxes and fines.  The embattled Russian oil giant had previously filed for bankruptcy protection in a US court in an attempt to prevent the forced sale of its main production arm. But Yugansk was sold to a little known shell company which in turn was bought by Rosneft. Yukos claims its downfall was punishment for the political ambitions of its founder Mikhail Khodorkovsky. Once the countrys richest man, Mr Khodorkovsky is on trial for fraud and tax evasion.  The deal between Rosneft and CNPC is seen as part of Chinas desire to secure long-term oil supplies to feed its booming economy. Chinas thirst for products such as crude oil, copper and steel has helped pushed global commodity prices to record levels. \"Clearly the Chinese are trying to get some leverage [in Russia],\" said Dmitry Lukashov, an analyst at brokerage Aton. \"They understand property rights in Russia are not the most important rights, and they are more interested in guaranteeing supplies.\" \"If the price of oil is fixed under the deal, which is unlikely, it could be very profitable for the Chinese,\" Mr Lukashov continued. \"And Rosneft is in desperate need of cash, so its a good deal for them too.\"',\n",
       " 'Oil rebounds from weather effect.  Oil prices recovered in Asian trade on Tuesday, after falling in New York on milder winter weather across the US.  With winter temperatures staying relatively high in the northern US, a barrel of light crude ended Monday down $1.33 to $42.12. However crude prices have rebounded in Asia, rising to $42.30 a barrel for February delivery. In London, trading of Brent crude was suspended for a public holiday, but the price fell to $39.20 in the Far East.  With milder temperatures expected to continue in the northern parts of the US over the next few days at least, analysts have said the price of oil may fall further - even if the decline was only temporary. \"Weather has been the Achilles heel of this market,\" said ABN AMRO analyst John Brady. \"But it is winter in the northeast. Eventually well get another cold blast.\" Despite a fall of more than $12 a barrel from the record highs reached in late October, the price of crude oil remains almost 30% higher than year-ago levels. Prices rose last week after militant attacks in Riyadh, the capital of Saudi Arabia, briefly renewed fears that the supply chain might be broken in the worlds leading crude exporter. \"The market was panicked but fears essentially evaporated... since there was no follow-up,\" said Deborah White, senior economist for energy at SG Securities in Paris.',\n",
       " 'Indonesia declines debt freeze.  Indonesia no longer needs the debt freeze offered by the Paris Club group of creditors, Economics Minister Aburizal Bakrie has reportedly said.  Indonesia, which originally accepted the debt moratorium offer, owes the Paris Club about $48bn (Â£25.5bn). Mr Bakrie told the Bisnis Indonesia newspaper that a $1.7bn donors aid package meant that the debt moratorium was unnecessary. This aid comes on top of a previously-pledged $3.4bn package. Most of this normal aid would be used to finance the countrys budget deficit. The Indonesian Economics Minister explained that the money - $1.2bn in grants and $500m in soft loans - was for the rebuilding of Aceh province, which was badly hit by the tsunami of 26 December. Nevertheless, one of Mr Bakries deputies, Mahendra Siregar, told AFP news agency that Indonesia was still considering the offer by the Paris Club of rich creditor nations to temporarily suspend its debt payments. \"What is true is that we are still discussing... the Paris Club decision to find out more details such as how much of our debt will be subject to a moratorium. Thats how far we are at this stage,\" said Mr Siregar.  The 19 member countries of the Paris Club are owed about $5bn this year in debt repayments by nations affected by the Indian Ocean tsunami. Indonesia, Sri Lanka and the Seychelles accepted the Paris Club offer, which was criticised by some aid groups as being too little. Thailand and India have however declined the offer, with Thailand prefering to keep up with its payments while India said it would prefer to rely on its own resources rather than on international aid. Putting off payments may lower a countrys rating among financial organisations, making it more expensive and more difficult for them to borrow money in the future, analysts said. Separately, the Indonesian government has said it will announce monthly how much it has received in foreign donations and how it has spent the money. Welfare Minister Alwi Shihab told AP news agency that this announcement should allay suspicion of official corruption in relief operations.']"
      ]
     },
     "execution_count": 10,
     "metadata": {},
     "output_type": "execute_result"
    }
   ],
   "source": [
    "content_list[:3]"
   ]
  },
  {
   "cell_type": "markdown",
   "metadata": {},
   "source": [
    "#### Tokenizing is also required before using the dataset.\n",
    "Tokenizing - Splitting sentences and words from the body of text."
   ]
  },
  {
   "cell_type": "markdown",
   "metadata": {},
   "source": [
    "#### Need one tokenizing.\n",
    "In order to get all the words that mean ‘say’."
   ]
  },
  {
   "cell_type": "code",
   "execution_count": 11,
   "metadata": {},
   "outputs": [],
   "source": [
    "from nltk.tokenize import word_tokenize"
   ]
  },
  {
   "cell_type": "code",
   "execution_count": 12,
   "metadata": {},
   "outputs": [],
   "source": [
    "def word_token(string):\n",
    "    return re.findall(r'[\\d|\\w]+', string)"
   ]
  },
  {
   "cell_type": "code",
   "execution_count": 13,
   "metadata": {},
   "outputs": [],
   "source": [
    "no_symbols_content_list = [word_token(n) for n in content_list]"
   ]
  },
  {
   "cell_type": "code",
   "execution_count": 14,
   "metadata": {},
   "outputs": [],
   "source": [
    "no_symbols_content_list = [' '.join(n) for n in no_symbols_content_list]"
   ]
  },
  {
   "cell_type": "code",
   "execution_count": 15,
   "metadata": {},
   "outputs": [],
   "source": [
    "no_symbols_content_list = [word_tokenize(n) for n in no_symbols_content_list]"
   ]
  },
  {
   "cell_type": "code",
   "execution_count": 16,
   "metadata": {},
   "outputs": [],
   "source": [
    "word_content_list = [' '.join(n) for n in no_symbols_content_list]"
   ]
  },
  {
   "cell_type": "markdown",
   "metadata": {},
   "source": [
    "Now we have one data sets that have been processed.\n",
    "\n",
    "The next step is to get all the words that mean ‘say’."
   ]
  },
  {
   "cell_type": "markdown",
   "metadata": {},
   "source": [
    "## Step 2: Find the beginning of the sentence you want to display(get all the words that mean ‘say’)\n",
    "\n",
    "The way I thought before was to look up the English dictionary. Manually find all the words that are similar to the meaning of the word. Then manually enter these words into the txt file.\n",
    "\n",
    "However, the technical content of this method is too low. And there are too many words. So I found a new way to build a txt file.\n",
    "\n",
    "The new approach I use is a combination of word embedding and breadth-first search.\n",
    "\n",
    "Word2vec is a model of word embedding.\n",
    "\n",
    "references:https://arxiv.org/pdf/1411.2738.pdf\n",
    "    \n",
    "The approximate meaning of this model is that you type a word. Then the model will turn the word into a vector. Then the vector around this vector is the synonym of the word. So I use this model to find synonyms."
   ]
  },
  {
   "cell_type": "code",
   "execution_count": 17,
   "metadata": {},
   "outputs": [
    {
     "name": "stderr",
     "output_type": "stream",
     "text": [
      "D:\\Anaconda3\\envs\\project\\lib\\site-packages\\gensim\\utils.py:1197: UserWarning: detected Windows; aliasing chunkize to chunkize_serial\n",
      "  warnings.warn(\"detected Windows; aliasing chunkize to chunkize_serial\")\n"
     ]
    }
   ],
   "source": [
    "from gensim.models import Word2Vec\n",
    "from gensim.models.word2vec import LineSentence"
   ]
  },
  {
   "cell_type": "code",
   "execution_count": 18,
   "metadata": {},
   "outputs": [],
   "source": [
    "with open('news_content.txt', 'w',encoding=\"iso-8859-1\") as f:\n",
    "    for n in word_content_list:\n",
    "        f.write(n + '\\n')"
   ]
  },
  {
   "cell_type": "markdown",
   "metadata": {},
   "source": [
    "Because of the problem with the file encoding format. Change the text file to UTF-8 format."
   ]
  },
  {
   "cell_type": "code",
   "execution_count": 19,
   "metadata": {},
   "outputs": [],
   "source": [
    "def correctSubtitleEncoding(filename, newFilename, encoding_from, encoding_to='UTF-8'):\n",
    "    with open(filename, 'r', encoding=encoding_from) as fr:\n",
    "        with open(newFilename, 'w', encoding=encoding_to) as fw:\n",
    "            for line in fr:\n",
    "                fw.write(line[:-1]+'\\r\\n')\n",
    "correctSubtitleEncoding(\"news_content.txt\",\"news_content_utf.txt\",\"iso-8859-1\")"
   ]
  },
  {
   "cell_type": "code",
   "execution_count": 20,
   "metadata": {},
   "outputs": [
    {
     "name": "stderr",
     "output_type": "stream",
     "text": [
      "D:\\Anaconda3\\envs\\project\\lib\\site-packages\\smart_open\\smart_open_lib.py:398: UserWarning: This function is deprecated, use smart_open.open instead. See the migration notes for details: https://github.com/RaRe-Technologies/smart_open/blob/master/README.rst#migrating-to-the-new-open-function\n",
      "  'See the migration notes for details: %s' % _MIGRATION_NOTES_URL\n"
     ]
    }
   ],
   "source": [
    "news_word2ve= Word2Vec(LineSentence('news_content_utf.txt'), size=35, workers=8)"
   ]
  },
  {
   "cell_type": "code",
   "execution_count": 21,
   "metadata": {},
   "outputs": [
    {
     "data": {
      "text/plain": [
       "[('says', 0.9205301403999329),\n",
       " ('added', 0.9003747701644897),\n",
       " ('told', 0.7915402054786682),\n",
       " ('believes', 0.7894333600997925),\n",
       " ('Smernicki', 0.7773923873901367),\n",
       " ('warned', 0.7764408588409424),\n",
       " ('argued', 0.7676066160202026),\n",
       " ('admitted', 0.7652660608291626),\n",
       " ('Ingram', 0.7645844221115112),\n",
       " ('insisted', 0.7607728242874146),\n",
       " ('Babinet', 0.757400393486023),\n",
       " ('Raskin', 0.7566797137260437),\n",
       " ('explained', 0.7558911442756653),\n",
       " ('thinks', 0.7463495135307312),\n",
       " ('Houlihan', 0.7432024478912354),\n",
       " ('Ebbers', 0.7427487969398499),\n",
       " ('Hogan', 0.7411108016967773),\n",
       " ('Butlers', 0.738810658454895),\n",
       " ('Sullivan', 0.7351438999176025),\n",
       " ('Donofrio', 0.733007550239563),\n",
       " ('denied', 0.7299922704696655),\n",
       " ('correctly', 0.7214597463607788),\n",
       " ('Myers', 0.7208898067474365),\n",
       " ('Fogg', 0.7095553874969482),\n",
       " ('Yoran', 0.7010022401809692),\n",
       " ('Blairs', 0.6985139846801758),\n",
       " ('Underwood', 0.6974301934242249),\n",
       " ('Kilroy', 0.6868307590484619),\n",
       " ('joked', 0.6856988072395325),\n",
       " ('Nachison', 0.6856547594070435),\n",
       " ('Sigarchi', 0.6820467710494995),\n",
       " ('Khodorkovsky', 0.6818302869796753),\n",
       " ('Ash', 0.6814153790473938),\n",
       " ('claimed', 0.6795399188995361),\n",
       " ('Glazers', 0.6785115003585815),\n",
       " ('Saakashvili', 0.6734482049942017),\n",
       " ('stressed', 0.670759379863739),\n",
       " ('Botin', 0.6704636216163635),\n",
       " ('Florin', 0.6682256460189819),\n",
       " ('Howard', 0.6667769551277161),\n",
       " ('Brown', 0.6654779314994812),\n",
       " ('Gammell', 0.6648929119110107),\n",
       " ('Trainor', 0.6631618738174438),\n",
       " ('Wong', 0.6617162823677063),\n",
       " ('confirmed', 0.6613556146621704),\n",
       " ('Mann', 0.6610960960388184),\n",
       " ('acknowledged', 0.6588901877403259),\n",
       " ('Weiner', 0.6579495072364807),\n",
       " ('Magnier', 0.6571545004844666),\n",
       " ('Clarke', 0.6570876836776733)]"
      ]
     },
     "execution_count": 21,
     "metadata": {},
     "output_type": "execute_result"
    }
   ],
   "source": [
    "news_word2ve.wv.most_similar('said', topn=50)"
   ]
  },
  {
   "cell_type": "markdown",
   "metadata": {},
   "source": [
    "As you can see, some of the words behind the list are not words that mean 'say'.\n",
    "\n",
    "So use an algorithm similar to breadth-first search to optimize.\n",
    "\n",
    "The principle of the algorithm is this.\n",
    "\n",
    "If I am looking for a synonym for bananas.\n",
    "\n",
    "The search results are probably like this.\n",
    "\n",
    "![0](https://github.com/ngnl333/Character-Speech-Extraction/blob/master/image/image0.PNG?raw=true)\n",
    "\n",
    "\n",
    "You can see that there is a word that is not fruit.\n",
    "\n",
    "To solve this problem. You can continue to search for synonyms of synonyms.\n",
    "\n",
    "like this.\n",
    "\n",
    "![1](https://github.com/ngnl333/Character-Speech-Extraction/blob/master/image/image1.JPG?raw=true)\n",
    "\n",
    "You can find out. Although there are still wrong words. But most of the words are fruit.\n",
    "\n",
    "So there is such a method. I found a synonym for bananas. Apples, pears, peaches, etc. \n",
    "\n",
    "Then I go looking for synonyms for Apple (a synonym for the banana I just found). \n",
    "\n",
    "I can find the words banana, pear, and peach again. \n",
    "\n",
    "Most of them are the right fruits. A small part is something else. \n",
    "\n",
    "Then I searched for pears again. Search for peaches.\n",
    "\n",
    "![2](https://github.com/ngnl333/Character-Speech-Extraction/blob/master/image/image2.PNG?raw=true)\n",
    "\n",
    "Use this method to keep searching. \n",
    "\n",
    "If a word is fruit, then the word must appear multiple times. \n",
    "\n",
    "Other types of things will only appear in certain situations. It won't always appear.\n",
    "\n",
    "For example, curry will only appear when searching for synonyms for bananas. It won't appear when searching for synonyms for apple or pineapple.\n",
    "\n",
    "This gives the root node and child nodes. Turn this problem into a classic algorithmic problem."
   ]
  },
  {
   "cell_type": "code",
   "execution_count": 22,
   "metadata": {},
   "outputs": [],
   "source": [
    "from collections import defaultdict"
   ]
  },
  {
   "cell_type": "code",
   "execution_count": 23,
   "metadata": {},
   "outputs": [],
   "source": [
    "def get_related_words(initial_words, model):\n",
    "    \n",
    "    unseen = initial_words\n",
    "    \n",
    "    seen = defaultdict(int)\n",
    "    \n",
    "    max_size = 500\n",
    "    \n",
    "    while unseen and len(seen) < max_size:\n",
    "            \n",
    "        node = unseen.pop(0)\n",
    "        \n",
    "        new_expanding = [w for w, s in model.wv.most_similar(node, topn=20)]\n",
    "        \n",
    "        unseen += new_expanding\n",
    "        \n",
    "        seen[node] += 1\n",
    "\n",
    "    \n",
    "    return seen"
   ]
  },
  {
   "cell_type": "code",
   "execution_count": 24,
   "metadata": {},
   "outputs": [],
   "source": [
    "related_words = get_related_words(['say','told','said','think'], news_word2ve)"
   ]
  },
  {
   "cell_type": "code",
   "execution_count": 25,
   "metadata": {},
   "outputs": [],
   "source": [
    "word_list=sorted(related_words.items(), key=lambda x: x[1], reverse=True)"
   ]
  },
  {
   "cell_type": "code",
   "execution_count": 26,
   "metadata": {},
   "outputs": [],
   "source": [
    "words_means_say=[n[0] for n in word_list]"
   ]
  },
  {
   "cell_type": "code",
   "execution_count": 27,
   "metadata": {},
   "outputs": [
    {
     "data": {
      "text/plain": [
       "['ask',\n",
       " 'understand',\n",
       " 'accept',\n",
       " 'feel',\n",
       " 'tell',\n",
       " 'realise',\n",
       " 'afford',\n",
       " 'So',\n",
       " 'why',\n",
       " 'love',\n",
       " 'stop',\n",
       " 'know',\n",
       " 'consider',\n",
       " 'require',\n",
       " 'maybe',\n",
       " 'actually',\n",
       " 'believe',\n",
       " 'thank',\n",
       " 'see',\n",
       " 'certainly',\n",
       " 'disappear',\n",
       " 'ignore',\n",
       " 'agree',\n",
       " 'achieve',\n",
       " 'hope',\n",
       " 'avoid',\n",
       " 'Ingram',\n",
       " 'hear',\n",
       " 'quite',\n",
       " 'wonder',\n",
       " 'remember',\n",
       " 'thats',\n",
       " 'absolutely',\n",
       " 'hassle',\n",
       " 'find',\n",
       " 'Sullivan',\n",
       " 'felt',\n",
       " 'pursue',\n",
       " 'everything',\n",
       " 'definitely',\n",
       " 'think',\n",
       " 'Myers',\n",
       " 'doing',\n",
       " 'improve',\n",
       " 'Ebbers',\n",
       " 'really',\n",
       " 'listen',\n",
       " 'learn',\n",
       " 'apply',\n",
       " 'wish']"
      ]
     },
     "execution_count": 27,
     "metadata": {},
     "output_type": "execute_result"
    }
   ],
   "source": [
    "words_means_say[:50]"
   ]
  },
  {
   "cell_type": "code",
   "execution_count": 31,
   "metadata": {},
   "outputs": [],
   "source": [
    "with open('data\\words_mean_say.txt','w')as f:\n",
    "    for words in words_means_say:\n",
    "        f.write(words+'\\n')"
   ]
  },
  {
   "cell_type": "markdown",
   "metadata": {},
   "source": [
    "So we got all the words that mean ‘say’."
   ]
  }
 ],
 "metadata": {
  "kernelspec": {
   "display_name": "Python 3",
   "language": "python",
   "name": "python3"
  },
  "language_info": {
   "codemirror_mode": {
    "name": "ipython",
    "version": 3
   },
   "file_extension": ".py",
   "mimetype": "text/x-python",
   "name": "python",
   "nbconvert_exporter": "python",
   "pygments_lexer": "ipython3",
   "version": "3.7.3"
  },
  "pycharm": {
   "stem_cell": {
    "cell_type": "raw",
    "metadata": {
     "collapsed": false
    },
    "source": []
   }
  }
 },
 "nbformat": 4,
 "nbformat_minor": 4
}
